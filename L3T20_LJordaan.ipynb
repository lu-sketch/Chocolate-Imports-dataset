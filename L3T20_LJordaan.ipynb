{
  "cells": [
    {
      "cell_type": "markdown",
      "metadata": {
        "id": "view-in-github",
        "colab_type": "text"
      },
      "source": [
        "<a href=\"https://colab.research.google.com/github/lu-sketch/Chocolate-Imports-dataset/blob/main/L3T20_LJordaan.ipynb\" target=\"_parent\"><img src=\"https://colab.research.google.com/assets/colab-badge.svg\" alt=\"Open In Colab\"/></a>"
      ]
    },
    {
      "cell_type": "markdown",
      "metadata": {
        "id": "eHGm8RQlK46m"
      },
      "source": [
        "# Get and explore dataset"
      ]
    },
    {
      "cell_type": "code",
      "execution_count": 36,
      "metadata": {
        "id": "-erlYw1jXtgh"
      },
      "outputs": [],
      "source": [
        "import matplotlib.pyplot as plt\n",
        "from matplotlib import pyplot\n",
        "import numpy as np\n",
        "import re\n",
        "import sklearn\n",
        "from sklearn.model_selection import train_test_split\n",
        "\n",
        "%matplotlib inline"
      ]
    },
    {
      "cell_type": "code",
      "execution_count": 37,
      "metadata": {
        "id": "goZIhX8nII4T"
      },
      "outputs": [],
      "source": [
        "# Make results reproducible - set random seed\n",
        "from numpy.random import seed\n",
        "seed(42)"
      ]
    },
    {
      "cell_type": "code",
      "execution_count": 38,
      "metadata": {
        "id": "v_fEysQHII4W",
        "tags": []
      },
      "outputs": [],
      "source": [
        "negative_file = \"/content/drive/MyDrive/DATA/LEVEL 3/Task 20/negative.txt\"\n",
        "positive_file = \"/content/drive/MyDrive/DATA/LEVEL 3/Task 20/positive.txt\""
      ]
    },
    {
      "cell_type": "code",
      "execution_count": 39,
      "metadata": {
        "id": "0rWm4yycII4Y",
        "tags": []
      },
      "outputs": [],
      "source": [
        "# Do not modify - helper function to load and preprocess data\n",
        "def filter_words(line):    \n",
        "    line = re.sub(r'[^\\w\\s]','',line.rstrip())\n",
        "    words = line.split(\" \") \n",
        "    words = [i.lower() for i in words if i]      \n",
        "    return \" \".join(words)\n",
        "\n",
        "def load_data(filename):\n",
        "    thefile = open(filename, 'r') \n",
        "    lines = thefile.readlines() \n",
        "\n",
        "    data = []\n",
        "    for l in range(0,len(lines)): \n",
        "        if(lines[l-1].strip() == \"<title>\"): \n",
        "            theline = filter_words(lines[l])\n",
        "            if(len(theline) < 50):\n",
        "                data.append(theline)            \n",
        "            \n",
        "    return data\n",
        "\n",
        "# Helper function to convert categorical data to class label\n",
        "def to_word_label(y):\n",
        "    y = to_class(y)   \n",
        "    return [\"positive\" if i==0 else \"negative\" for i in y]\n",
        "\n",
        "# Helper function to convert class label to numeric label\n",
        "def to_numeric_label(y):\n",
        "  return [0 if i==\"positive\" else 1 for i in word_labels]\n",
        "\n",
        "# Helper function: this function needs to be called before sending arrays to sklearn metrics,\n",
        "# it converts back to class form from categorical form. ie: [1,0] --> 0, [0,1] --> 1\n",
        "def to_class(y):\n",
        "    return np.argmax(y,axis=1) "
      ]
    },
    {
      "cell_type": "code",
      "source": [
        "from google.colab import drive\n",
        "drive.mount('/content/drive')"
      ],
      "metadata": {
        "colab": {
          "base_uri": "https://localhost:8080/"
        },
        "id": "cJDlwlHyRFIj",
        "outputId": "8e1b21ff-c6ea-45f1-e750-cf9424727c54"
      },
      "execution_count": 40,
      "outputs": [
        {
          "output_type": "stream",
          "name": "stdout",
          "text": [
            "Drive already mounted at /content/drive; to attempt to forcibly remount, call drive.mount(\"/content/drive\", force_remount=True).\n"
          ]
        }
      ]
    },
    {
      "cell_type": "code",
      "execution_count": 41,
      "metadata": {
        "colab": {
          "base_uri": "https://localhost:8080/"
        },
        "id": "jjGUiFm9II4b",
        "outputId": "3d30931d-74fe-4dec-eaae-c007dc0a5536",
        "tags": []
      },
      "outputs": [
        {
          "output_type": "stream",
          "name": "stdout",
          "text": [
            "['one of the best crichton novels', 'the medicine of the future', 'beautiful', 'for lovers of robicheaux', 'a good book', 'to the point and beautifully illustrated', 'at least somebody has got it', 'beautifully written heartwarming story', 'an excellent cookbook full of delicious recipes', 'an outstanding resource']\n",
            "['horrible book horrible', 'shallow selfindulgence', 'horrible book horrible', 'disappointment', 'a disappointing mess', 'save your money there are better books out there', 'thank you but no thanks', 'unendurable', 'the hard way', 'some good info among the political commercial']\n"
          ]
        }
      ],
      "source": [
        "positive = load_data(positive_file)\n",
        "negative = load_data(negative_file)\n",
        "\n",
        "print(positive[0:10])\n",
        "print(negative[0:10])"
      ]
    },
    {
      "cell_type": "code",
      "execution_count": 42,
      "metadata": {
        "id": "yrgEYOOCII4d",
        "tags": []
      },
      "outputs": [],
      "source": [
        "# Do not modify - Combines the positive and negative reviews into a single list and create labels\n",
        "data = positive + negative\n",
        "word_labels = [\"positive\"] * len(positive) + [\"negative\"] * len(negative) \n",
        "\n",
        "# Converts labels to numbers in one-hot encoding - [1, 0] (positive) or [0, 1] (negative)\n",
        "from keras.utils import to_categorical\n",
        "labels  = to_categorical(to_numeric_label(word_labels))"
      ]
    },
    {
      "cell_type": "code",
      "execution_count": 43,
      "metadata": {
        "id": "97Uh2uBpII4l",
        "tags": [],
        "colab": {
          "base_uri": "https://localhost:8080/",
          "height": 597
        },
        "outputId": "c141540b-88c0-424d-c1ca-923e676c8424"
      },
      "outputs": [
        {
          "output_type": "stream",
          "name": "stdout",
          "text": [
            "Mean of the labels  0.5\n",
            "Standard Deviation  0.5\n",
            "Unique words in the data set:  1793 words\n"
          ]
        },
        {
          "output_type": "display_data",
          "data": {
            "text/plain": [
              "<Figure size 432x288 with 1 Axes>"
            ],
            "image/png": "[encoded data removed]"
          },
          "metadata": {
            "needs_background": "light"
          }
        },
        {
          "output_type": "display_data",
          "data": {
            "text/plain": [
              "<Figure size 432x288 with 1 Axes>"
            ],
            "image/png": "[encoded data removed]"
          },
          "metadata": {
            "needs_background": "light"
          }
        }
      ],
      "source": [
        "# Write some code to investigate the dataset. \n",
        "# - Calculate and report the mean review size, its standard deviation and create a boxplot.\n",
        "\n",
        "print('Mean of the labels ',labels.mean())\n",
        "print('Standard Deviation ',labels.std())\n",
        "\n",
        "# Boxplot\n",
        "fig1, ax1 = plt.subplots()\n",
        "ax1.set_title('Boxplot : Labels')\n",
        "ax1.boxplot(labels)\n",
        "\n",
        "fig1, ax1 = plt.subplots()\n",
        "ax1.set_title('Boxplot : Tokenized_data')\n",
        "ax1.boxplot(tokenized_data)\n",
        "\n",
        "# - Calculate the number of unique words in the dataset\n",
        "print('Unique words in the data set: ', len(labels), 'words')\n",
        "\n",
        "# - Perform any other dataset investigation that you feel would be valuable\n",
        " "
      ]
    },
    {
      "cell_type": "markdown",
      "source": [
        "Mean = 0.5 'Thus half of the words are positive and the other half negative'."
      ],
      "metadata": {
        "id": "rmXuDgsXaifN"
      }
    },
    {
      "cell_type": "code",
      "execution_count": 44,
      "metadata": {
        "colab": {
          "base_uri": "https://localhost:8080/"
        },
        "id": "_XXnArgcII4i",
        "outputId": "7b2ad05e-a36e-4786-acc4-53ef3086d50c",
        "tags": []
      },
      "outputs": [
        {
          "output_type": "stream",
          "name": "stdout",
          "text": [
            "['one of the best crichton novels', 'the medicine of the future', 'beautiful', 'for lovers of robicheaux', 'a good book']\n",
            "[[18, 4, 2, 19], [2, 4, 2], [], [6, 4], [1, 12, 3]]\n",
            "1793\n"
          ]
        }
      ],
      "source": [
        "# Do not modify - Tokenize the vocabulary \n",
        "from keras.preprocessing.text import Tokenizer\n",
        "\n",
        "tokenizer = Tokenizer(num_words=25)\n",
        "\n",
        "tokenizer.fit_on_texts(data) #create the vocabularry\n",
        "\n",
        "tokenized_data = tokenizer.texts_to_sequences(data) #tokenize the data using the vocabulary\n",
        "\n",
        "vocab_size = len(tokenizer.word_index) + 1 \n",
        "\n",
        "# Compare a sample of the data before and after tokenization\n",
        "print(data[0:5])\n",
        "print(tokenized_data[0:5])\n",
        "print(len(tokenized_data))"
      ]
    },
    {
      "cell_type": "markdown",
      "metadata": {
        "id": "_vsMmLjdK1Gf"
      },
      "source": [
        "# Pre-processing"
      ]
    },
    {
      "cell_type": "code",
      "source": [
        "# Write some code to pre-process the data so that each review is the same length\n",
        "import tensorflow as tf\n",
        "from keras_preprocessing.sequence import pad_sequences\n",
        "tokenized_data = tf.keras.preprocessing.sequence.pad_sequences(tokenized_data,maxlen=4)\n",
        "print(tokenized_data) # we have 1793 4 word sequences now\n"
      ],
      "metadata": {
        "colab": {
          "base_uri": "https://localhost:8080/"
        },
        "id": "Y0rGnMPwXQky",
        "outputId": "f5c28aee-67c2-4230-f642-af8710a8a40f"
      },
      "execution_count": 45,
      "outputs": [
        {
          "output_type": "stream",
          "name": "stdout",
          "text": [
            "[[18  4  2 19]\n",
            " [ 0  2  4  2]\n",
            " [ 0  0  0  0]\n",
            " ...\n",
            " [ 0  0  0  0]\n",
            " [ 0  0  0  6]\n",
            " [ 0  0  0  0]]\n"
          ]
        }
      ]
    },
    {
      "cell_type": "code",
      "source": [
        "X = tokenized_data\n",
        "y = labels\n",
        "\n",
        "X_train, X_test, y_train, y_test = train_test_split(X, y, test_size=0.2, random_state=0)\n",
        "print('X_train, X_test', X_train.shape, X_test.shape)\n",
        "print('y_train, y_test', y_train.shape, y_test.shape)\n"
      ],
      "metadata": {
        "id": "a-QPXQAMCwIR",
        "colab": {
          "base_uri": "https://localhost:8080/"
        },
        "outputId": "5627fa78-2c6b-4b06-cfd7-d8381091f384"
      },
      "execution_count": 46,
      "outputs": [
        {
          "output_type": "stream",
          "name": "stdout",
          "text": [
            "X_train, X_test (1434, 4) (359, 4)\n",
            "y_train, y_test (1434, 2) (359, 2)\n"
          ]
        }
      ]
    },
    {
      "cell_type": "code",
      "source": [
        "from keras.layers.normalization.batch_normalization_v1 import BatchNormalization\n",
        "from keras.models import Sequential\n",
        "from keras import layers\n",
        "\n",
        "embedding_dim = 100\n",
        "maxlen= 4 \n",
        "model1 = Sequential()\n",
        "model1.add(layers.Embedding(input_dim=vocab_size, \n",
        "                           output_dim=embedding_dim, \n",
        "                           input_length=maxlen))\n",
        "model1.add(layers.Flatten())\n",
        "model1.add(layers.Dense(2, activation='softmax'))\n",
        "model1.compile(optimizer='rmsprop',\n",
        "              loss='binary_crossentropy',\n",
        "              metrics=['accuracy'])\n",
        "model1.summary()"
      ],
      "metadata": {
        "colab": {
          "base_uri": "https://localhost:8080/"
        },
        "id": "7OU8UxEWGYJ7",
        "outputId": "73f9863c-8ca9-47fc-f3d3-9da7ec8468cc"
      },
      "execution_count": 47,
      "outputs": [
        {
          "output_type": "stream",
          "name": "stdout",
          "text": [
            "Model: \"sequential_2\"\n",
            "_________________________________________________________________\n",
            " Layer (type)                Output Shape              Param #   \n",
            "=================================================================\n",
            " embedding_2 (Embedding)     (None, 4, 100)            256000    \n",
            "                                                                 \n",
            " flatten_1 (Flatten)         (None, 400)               0         \n",
            "                                                                 \n",
            " dense_2 (Dense)             (None, 2)                 802       \n",
            "                                                                 \n",
            "=================================================================\n",
            "Total params: 256,802\n",
            "Trainable params: 256,802\n",
            "Non-trainable params: 0\n",
            "_________________________________________________________________\n"
          ]
        }
      ]
    },
    {
      "cell_type": "markdown",
      "metadata": {
        "id": "nTqLbbE6MpGt"
      },
      "source": [
        "# Build and tune model"
      ]
    },
    {
      "cell_type": "markdown",
      "metadata": {
        "id": "3X70rA4uMXNv"
      },
      "source": [
        "Define network architecture"
      ]
    },
    {
      "cell_type": "markdown",
      "metadata": {
        "id": "llS0-VKBMbz-"
      },
      "source": [
        "Train model"
      ]
    },
    {
      "cell_type": "code",
      "source": [
        "epochs = 10\n",
        "batch_size = 10\n",
        "validation = 0.2\n",
        "verbose = 2"
      ],
      "metadata": {
        "id": "kVqJMNTbF4t7"
      },
      "execution_count": 48,
      "outputs": []
    },
    {
      "cell_type": "code",
      "execution_count": 49,
      "metadata": {
        "id": "F5IJs0QuMe_I",
        "colab": {
          "base_uri": "https://localhost:8080/"
        },
        "outputId": "3fc50ee6-1b15-4cb7-c3d1-fba894e8c703"
      },
      "outputs": [
        {
          "output_type": "stream",
          "name": "stdout",
          "text": [
            "Train Model 1\n",
            "Epoch 1/10\n",
            "115/115 [==============================] - 1s 4ms/step - loss: 0.6871 - accuracy: 0.5536 - val_loss: 0.6862 - val_accuracy: 0.5331\n",
            "Epoch 2/10\n",
            "115/115 [==============================] - 0s 3ms/step - loss: 0.6727 - accuracy: 0.6190 - val_loss: 0.6788 - val_accuracy: 0.5470\n",
            "Epoch 3/10\n",
            "115/115 [==============================] - 0s 3ms/step - loss: 0.6571 - accuracy: 0.6364 - val_loss: 0.6734 - val_accuracy: 0.5470\n",
            "Epoch 4/10\n",
            "115/115 [==============================] - 0s 3ms/step - loss: 0.6444 - accuracy: 0.6356 - val_loss: 0.6738 - val_accuracy: 0.5889\n",
            "Epoch 5/10\n",
            "115/115 [==============================] - 2s 17ms/step - loss: 0.6342 - accuracy: 0.6452 - val_loss: 0.6766 - val_accuracy: 0.5784\n",
            "Epoch 6/10\n",
            "115/115 [==============================] - 0s 3ms/step - loss: 0.6273 - accuracy: 0.6469 - val_loss: 0.6900 - val_accuracy: 0.5679\n",
            "Epoch 7/10\n",
            "115/115 [==============================] - 0s 3ms/step - loss: 0.6246 - accuracy: 0.6486 - val_loss: 0.6875 - val_accuracy: 0.5749\n",
            "Epoch 8/10\n",
            "115/115 [==============================] - 0s 3ms/step - loss: 0.6208 - accuracy: 0.6478 - val_loss: 0.6949 - val_accuracy: 0.5749\n",
            "Epoch 9/10\n",
            "115/115 [==============================] - 0s 3ms/step - loss: 0.6185 - accuracy: 0.6530 - val_loss: 0.6972 - val_accuracy: 0.5714\n",
            "Epoch 10/10\n",
            "115/115 [==============================] - 0s 3ms/step - loss: 0.6180 - accuracy: 0.6565 - val_loss: 0.6962 - val_accuracy: 0.5889\n"
          ]
        }
      ],
      "source": [
        "print('Train Model 1')\n",
        "\n",
        "history = model1.fit(X_train,\n",
        "                      y_train,\n",
        "                      batch_size=batch_size,\n",
        "                      epochs=10,\n",
        "                      validation_split=0.2)"
      ]
    },
    {
      "cell_type": "code",
      "source": [
        "def plot1(history):\n",
        "    acc = history.history['accuracy']\n",
        "    val_acc = history.history['val_accuracy']\n",
        "    loss = history.history['loss']\n",
        "    val_loss = history.history['val_loss']\n",
        "\n",
        "    epochs = range(1, len(acc) + 1)\n",
        "    ## Accuracy plot\n",
        "    plt.plot(epochs, acc, 'bo', label='Training acc')\n",
        "    plt.plot(epochs, val_acc, 'b', label='Validation acc')\n",
        "    plt.title('Training and validation accuracy')\n",
        "    plt.legend()\n",
        "    ## Loss plot\n",
        "    plt.figure()\n",
        "\n",
        "    plt.plot(epochs, loss, 'bo', label='Training loss')\n",
        "    plt.plot(epochs, val_loss, 'b', label='Validation loss')\n",
        "    plt.title('Training and validation loss')\n",
        "    plt.legend()\n",
        "    plt.show()\n",
        "\n"
      ],
      "metadata": {
        "id": "cDmc0mTy_bwi"
      },
      "execution_count": 50,
      "outputs": []
    },
    {
      "cell_type": "markdown",
      "source": [
        "Plot graphs for accuracy and loss"
      ],
      "metadata": {
        "id": "refc9dCXE4i8"
      }
    },
    {
      "cell_type": "code",
      "source": [
        "plot1(history)"
      ],
      "metadata": {
        "colab": {
          "base_uri": "https://localhost:8080/",
          "height": 545
        },
        "id": "Kfqf36HF_4dj",
        "outputId": "5f8d1bdf-2911-49ca-e791-ff2a9156c63f"
      },
      "execution_count": 51,
      "outputs": [
        {
          "output_type": "display_data",
          "data": {
            "text/plain": [
              "<Figure size 432x288 with 1 Axes>"
            ],
            "image/png": "[encoded data removed]"
          },
          "metadata": {
            "needs_background": "light"
          }
        },
        {
          "output_type": "display_data",
          "data": {
            "text/plain": [
              "<Figure size 432x288 with 1 Axes>"
            ],
            "image/png": "[encoded data removed]"
          },
          "metadata": {
            "needs_background": "light"
          }
        }
      ]
    },
    {
      "cell_type": "markdown",
      "metadata": {
        "id": "rniBBEiyMRKD"
      },
      "source": [
        "Examine performance of model"
      ]
    },
    {
      "cell_type": "code",
      "execution_count": 52,
      "metadata": {
        "id": "eBVogHg2II5T",
        "tags": [],
        "colab": {
          "base_uri": "https://localhost:8080/"
        },
        "outputId": "3ee80b8c-0b26-40da-b18d-c7e6b78e28dc"
      },
      "outputs": [
        {
          "output_type": "stream",
          "name": "stdout",
          "text": [
            "Evaluate Model 1 Train data:\n",
            "45/45 [==============================] - 0s 1ms/step - loss: 0.6272 - accuracy: 0.6450\n",
            "Evaluate Model 1 Test data:\n",
            "12/12 [==============================] - 0s 2ms/step - loss: 0.6675 - accuracy: 0.6323\n"
          ]
        }
      ],
      "source": [
        "# Model 1 Evaluation\n",
        "\n",
        "print('Evaluate Model 1 Train data:')\n",
        "loss, accuracy = model1.evaluate(X_train, y_train[:1434])\n",
        "\n",
        "print('Evaluate Model 1 Test data:')\n",
        "loss, accuracy = model1.evaluate(X_test, y_test[:359])\n",
        "\n"
      ]
    },
    {
      "cell_type": "code",
      "source": [
        "# - reports the precision, recall and f1 score. Also print the confusion matrix. \n",
        "from sklearn import metrics\n",
        "import seaborn as sns\n",
        "from sklearn.metrics import confusion_matrix, precision_score,recall_score, f1_score\n",
        "\n",
        "y_pred=model1.predict(X_test) \n",
        "y_pred=np.argmax(y_pred, axis=1)\n",
        "\n",
        "cm = confusion_matrix(y_test, y_pred)\n",
        "\n",
        "print('CONFUSTION MATRIX AND ACCURACY SCORES: MODEL 1')\n",
        "print(metrics.classification_report(y_test,y_pred))\n",
        "cm = metrics.confusion_matrix(y_test,y_pred)\n",
        "sns.heatmap(cm, annot=True, fmt = '.2f')"
      ],
      "metadata": {
        "colab": {
          "base_uri": "https://localhost:8080/",
          "height": 400
        },
        "id": "7QO1hJnLzZ35",
        "outputId": "85e1c5b2-da51-461f-fd76-09ccaa87e682"
      },
      "execution_count": 53,
      "outputs": [
        {
          "output_type": "stream",
          "name": "stdout",
          "text": [
            "12/12 [==============================] - 0s 2ms/step\n"
          ]
        },
        {
          "output_type": "error",
          "ename": "ValueError",
          "evalue": "ignored",
          "traceback": [
            "\u001b[0;31m---------------------------------------------------------------------------\u001b[0m",
            "\u001b[0;31mValueError\u001b[0m                                Traceback (most recent call last)",
            "\u001b[0;32m<ipython-input-53-7add745f04d3>\u001b[0m in \u001b[0;36m<module>\u001b[0;34m\u001b[0m\n\u001b[1;32m      7\u001b[0m \u001b[0my_pred\u001b[0m\u001b[0;34m=\u001b[0m\u001b[0mnp\u001b[0m\u001b[0;34m.\u001b[0m\u001b[0margmax\u001b[0m\u001b[0;34m(\u001b[0m\u001b[0my_pred\u001b[0m\u001b[0;34m,\u001b[0m \u001b[0maxis\u001b[0m\u001b[0;34m=\u001b[0m\u001b[0;36m1\u001b[0m\u001b[0;34m)\u001b[0m\u001b[0;34m\u001b[0m\u001b[0;34m\u001b[0m\u001b[0m\n\u001b[1;32m      8\u001b[0m \u001b[0;34m\u001b[0m\u001b[0m\n\u001b[0;32m----> 9\u001b[0;31m \u001b[0mcm\u001b[0m \u001b[0;34m=\u001b[0m \u001b[0mconfusion_matrix\u001b[0m\u001b[0;34m(\u001b[0m\u001b[0my_test\u001b[0m\u001b[0;34m,\u001b[0m \u001b[0my_pred\u001b[0m\u001b[0;34m)\u001b[0m\u001b[0;34m\u001b[0m\u001b[0;34m\u001b[0m\u001b[0m\n\u001b[0m\u001b[1;32m     10\u001b[0m \u001b[0;34m\u001b[0m\u001b[0m\n\u001b[1;32m     11\u001b[0m \u001b[0mprint\u001b[0m\u001b[0;34m(\u001b[0m\u001b[0;34m'CONFUSTION MATRIX AND ACCURACY SCORES: MODEL 1'\u001b[0m\u001b[0;34m)\u001b[0m\u001b[0;34m\u001b[0m\u001b[0;34m\u001b[0m\u001b[0m\n",
            "\u001b[0;32m/usr/local/lib/python3.7/dist-packages/sklearn/metrics/_classification.py\u001b[0m in \u001b[0;36mconfusion_matrix\u001b[0;34m(y_true, y_pred, labels, sample_weight, normalize)\u001b[0m\n\u001b[1;32m    305\u001b[0m     \u001b[0;34m(\u001b[0m\u001b[0;36m0\u001b[0m\u001b[0;34m,\u001b[0m \u001b[0;36m2\u001b[0m\u001b[0;34m,\u001b[0m \u001b[0;36m1\u001b[0m\u001b[0;34m,\u001b[0m \u001b[0;36m1\u001b[0m\u001b[0;34m)\u001b[0m\u001b[0;34m\u001b[0m\u001b[0;34m\u001b[0m\u001b[0m\n\u001b[1;32m    306\u001b[0m     \"\"\"\n\u001b[0;32m--> 307\u001b[0;31m     \u001b[0my_type\u001b[0m\u001b[0;34m,\u001b[0m \u001b[0my_true\u001b[0m\u001b[0;34m,\u001b[0m \u001b[0my_pred\u001b[0m \u001b[0;34m=\u001b[0m \u001b[0m_check_targets\u001b[0m\u001b[0;34m(\u001b[0m\u001b[0my_true\u001b[0m\u001b[0;34m,\u001b[0m \u001b[0my_pred\u001b[0m\u001b[0;34m)\u001b[0m\u001b[0;34m\u001b[0m\u001b[0;34m\u001b[0m\u001b[0m\n\u001b[0m\u001b[1;32m    308\u001b[0m     \u001b[0;32mif\u001b[0m \u001b[0my_type\u001b[0m \u001b[0;32mnot\u001b[0m \u001b[0;32min\u001b[0m \u001b[0;34m(\u001b[0m\u001b[0;34m\"binary\"\u001b[0m\u001b[0;34m,\u001b[0m \u001b[0;34m\"multiclass\"\u001b[0m\u001b[0;34m)\u001b[0m\u001b[0;34m:\u001b[0m\u001b[0;34m\u001b[0m\u001b[0;34m\u001b[0m\u001b[0m\n\u001b[1;32m    309\u001b[0m         \u001b[0;32mraise\u001b[0m \u001b[0mValueError\u001b[0m\u001b[0;34m(\u001b[0m\u001b[0;34m\"%s is not supported\"\u001b[0m \u001b[0;34m%\u001b[0m \u001b[0my_type\u001b[0m\u001b[0;34m)\u001b[0m\u001b[0;34m\u001b[0m\u001b[0;34m\u001b[0m\u001b[0m\n",
            "\u001b[0;32m/usr/local/lib/python3.7/dist-packages/sklearn/metrics/_classification.py\u001b[0m in \u001b[0;36m_check_targets\u001b[0;34m(y_true, y_pred)\u001b[0m\n\u001b[1;32m     93\u001b[0m         raise ValueError(\n\u001b[1;32m     94\u001b[0m             \"Classification metrics can't handle a mix of {0} and {1} targets\".format(\n\u001b[0;32m---> 95\u001b[0;31m                 \u001b[0mtype_true\u001b[0m\u001b[0;34m,\u001b[0m \u001b[0mtype_pred\u001b[0m\u001b[0;34m\u001b[0m\u001b[0;34m\u001b[0m\u001b[0m\n\u001b[0m\u001b[1;32m     96\u001b[0m             )\n\u001b[1;32m     97\u001b[0m         )\n",
            "\u001b[0;31mValueError\u001b[0m: Classification metrics can't handle a mix of multilabel-indicator and binary targets"
          ]
        }
      ]
    },
    {
      "cell_type": "code",
      "source": [
        "# Model 2\n",
        "from keras.layers import Dropout, LSTM\n",
        "time_stamp = 10\n",
        "model2 = Sequential()\n",
        "model2.add(layers.Embedding(input_dim=vocab_size, \n",
        "                           output_dim=embedding_dim, \n",
        "                           input_length=maxlen))\n",
        "model2.add(layers.SimpleRNN(10,activation='tanh',return_sequences=True))\n",
        "model2.add(Dropout(0.2))\n",
        "model2.add(layers.SimpleRNN(10,activation='tanh',return_sequences=True))\n",
        "model2.add(Dropout(0.2))\n",
        "model2.add(layers.LSTM(15,dropout=0.5))\n",
        "model2.add(layers.Dense(2, activation='sigmoid'))\n",
        "model2.compile(optimizer='rmsprop',\n",
        "              loss='categorical_crossentropy',\n",
        "              metrics=['accuracy'])\n",
        "model2.summary()\n"
      ],
      "metadata": {
        "id": "wnLbjSvUHfda"
      },
      "execution_count": null,
      "outputs": []
    },
    {
      "cell_type": "code",
      "source": [
        "epochs = 10\n",
        "batch_size = 10\n",
        "validation = 0.2\n",
        "verbose = 2"
      ],
      "metadata": {
        "id": "JOL2P0R4L6Hp"
      },
      "execution_count": null,
      "outputs": []
    },
    {
      "cell_type": "code",
      "source": [
        "print('Train Model 2')\n",
        "\n",
        "history = model2.fit(X_train,\n",
        "                      y_train,\n",
        "                      batch_size=batch_size,\n",
        "                      epochs=10,\n",
        "                      validation_split=(0.2))"
      ],
      "metadata": {
        "id": "ckoasPDsF-7c"
      },
      "execution_count": null,
      "outputs": []
    },
    {
      "cell_type": "code",
      "source": [
        "plot1(history)"
      ],
      "metadata": {
        "id": "f-8p6mNfF_G-"
      },
      "execution_count": null,
      "outputs": []
    },
    {
      "cell_type": "code",
      "source": [
        "# - reports the precision, recall and f1 score. Also print the confusion matrix. \n",
        "from sklearn import metrics\n",
        "import seaborn as sns\n",
        "from sklearn.metrics import confusion_matrix, precision_score,recall_score, f1_score\n",
        "\n",
        "y_pred=model2.predict(X_test) \n",
        "y_pred=np.argmax(y_pred, axis=1)\n",
        "rounded_predictions = model2.predict(test_images, batch_size=128, verbose=0)\n",
        "rounded_predictions[1]\n",
        "cm = confusion_matrix(y_test, y_pred)\n",
        "\n",
        "print('CONFUSTION MATRIX AND ACCURACY SCORES: MODEL 2')\n",
        "print(metrics.classification_report(y_test,y_pred))\n",
        "cm = metrics.confusion_matrix(y_test,y_pred)\n",
        "sns.heatmap(cm, annot=True, fmt = '.2f')"
      ],
      "metadata": {
        "id": "MoE87LLd1rTn"
      },
      "execution_count": null,
      "outputs": []
    },
    {
      "cell_type": "markdown",
      "metadata": {
        "id": "eAZ1LyFBMLoK"
      },
      "source": [
        "# Make a prediction"
      ]
    },
    {
      "cell_type": "code",
      "execution_count": 55,
      "metadata": {
        "id": "vfPM5LokII5V",
        "tags": [],
        "colab": {
          "base_uri": "https://localhost:8080/",
          "height": 70
        },
        "outputId": "38bd6d48-a580-4a26-ac71-88c625823a47"
      },
      "outputs": [
        {
          "output_type": "stream",
          "name": "stdout",
          "text": [
            "Model 1 : Prediction\n",
            "1/1 [==============================] - 0s 15ms/step\n"
          ]
        },
        {
          "output_type": "execute_result",
          "data": {
            "text/plain": [
              "'Positive'"
            ],
            "application/vnd.google.colaboratory.intrinsic+json": {
              "type": "string"
            }
          },
          "metadata": {},
          "execution_count": 55
        }
      ],
      "source": [
        "# This is a very small set of completed new data to use to make predictions.\n",
        "\n",
        "prediction_data = [\"this book is fabulous\",\"i hated this book\", \"the best\", \"no good\", \"okay\"]\n",
        "\n",
        "tokenized = tokenizer.texts_to_sequences(prediction_data)\n",
        "padded = pad_sequences(tokenized, padding='post', maxlen=maxlen)\n",
        "\n",
        "\n",
        "\n",
        "print('Model 1 : Prediction')\n",
        "sentiment = ['Negative','Positive']\n",
        "sequence = tokenizer.texts_to_sequences(prediction_data)\n",
        "test = pad_sequences(sequence, maxlen=maxlen)\n",
        "sentiment[np.around(model1.predict(test), decimals=0).argmax(axis=1)[0]]\n",
        "\n",
        "\n"
      ]
    },
    {
      "cell_type": "code",
      "source": [
        "# Prediction Model 2\n",
        "print('Model 2 : Prediction')\n",
        "sentiment = ['Negative','Positive']\n",
        "sequence = tokenizer.texts_to_sequences(prediction_data)\n",
        "test = pad_sequences(sequence, maxlen=maxlen)\n",
        "sentiment[np.around(model2.predict(test), decimals=0).argmax(axis=1)[0]]\n"
      ],
      "metadata": {
        "colab": {
          "base_uri": "https://localhost:8080/",
          "height": 70
        },
        "id": "iROkLOCEN2bm",
        "outputId": "ff8464d6-f4cb-464a-9a36-338a9628e637"
      },
      "execution_count": 54,
      "outputs": [
        {
          "output_type": "stream",
          "name": "stdout",
          "text": [
            "Model 2 : Prediction\n",
            "1/1 [==============================] - 0s 18ms/step\n"
          ]
        },
        {
          "output_type": "execute_result",
          "data": {
            "text/plain": [
              "'Positive'"
            ],
            "application/vnd.google.colaboratory.intrinsic+json": {
              "type": "string"
            }
          },
          "metadata": {},
          "execution_count": 54
        }
      ]
    },
    {
      "cell_type": "markdown",
      "source": [
        "# References:\n",
        "1. https://www.kaggle.com/code/jannesklaas/17-nlp-and-word-embeddings\n",
        "2. https://alvinntnu.github.io/NTNU_ENC2045_LECTURES/nlp/dl-simple-case.html\n",
        "3. https://realpython.com/python-keras-text-classification/\n",
        "4. https://towardsdatascience.com/an-easy-tutorial-about-sentiment-analysis-with-deep-learning-and-keras-2bf52b9cba91\n",
        "5. https://stackoverflow.com/questions/48851558/tensorflow-estimator-valueerror-logits-and-labels-must-have-the-same-shape\n",
        "6."
      ],
      "metadata": {
        "id": "wYcG3s8fA_uo"
      }
    },
    {
      "cell_type": "code",
      "source": [],
      "metadata": {
        "id": "pIoa6QP_A_yg"
      },
      "execution_count": null,
      "outputs": []
    }
  ],
  "metadata": {
    "colab": {
      "collapsed_sections": [],
      "provenance": [],
      "include_colab_link": true
    },
    "kernelspec": {
      "display_name": "Python 3",
      "language": "python",
      "name": "python3"
    },
    "language_info": {
      "codemirror_mode": {
        "name": "ipython",
        "version": 3
      },
      "file_extension": ".py",
      "mimetype": "text/x-python",
      "name": "python",
      "nbconvert_exporter": "python",
      "pygments_lexer": "ipython3",
      "version": "3.8.2"
    }
  },
  "nbformat": 4,
  "nbformat_minor": 0
}